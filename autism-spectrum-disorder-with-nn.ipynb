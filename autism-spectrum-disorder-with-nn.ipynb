{
 "cells": [
  {
   "cell_type": "markdown",
   "id": "21f0a18f",
   "metadata": {},
   "source": [
    "\n",
    "Autism Screening Prediction using Neural Networks\n",
    "\n",
    "Autism is a developmental disorder that affects social interaction, communication, and behavior. Early detection is important, but there's no definitive clinical method to diagnose Autism through physical tests alone.\n",
    "\n",
    "In this project, I explore whether we can use machine learning to help identify individuals who may be on the autism spectrum based on screening data.\n",
    "\n",
    "I start by preprocessing and cleaning the dataset, handling missing values, normalizing numeric features, and one-hot encoding categorical variables. I then visualize patterns in the data, including class distribution, ethnicity, gender, and country-level breakdowns.\n",
    " \n",
    "After preparing the data, I build and train a simple neural network using TensorFlow/Keras to predict the likelihood of Autism based on survey responses and demographic features. Finally, I evaluate the model using accuracy, classification report, and performance curves.\n",
    "\n",
    " This notebook walks through the entire pipeline: from raw data to prediction, and serves as a baseline for further experimentation or model improvement."
   ]
  },
  {
   "cell_type": "code",
   "execution_count": 1,
   "id": "7e5e6f02",
   "metadata": {
    "_cell_guid": "b1076dfc-b9ad-4769-8c92-a6c4dae69d19",
    "_uuid": "8f2839f25d086af736a60e9eeb907d3b93b6e0e5",
    "execution": {
     "iopub.execute_input": "2024-09-09T08:58:55.400751Z",
     "iopub.status.busy": "2024-09-09T08:58:55.400234Z",
     "iopub.status.idle": "2024-09-09T08:59:17.671711Z",
     "shell.execute_reply": "2024-09-09T08:59:17.670238Z"
    },
    "papermill": {
     "duration": 22.310584,
     "end_time": "2024-09-09T08:59:17.675174",
     "exception": false,
     "start_time": "2024-09-09T08:58:55.364590",
     "status": "completed"
    },
    "tags": []
   },
   "outputs": [],
   "source": [
    "import numpy as np # linear algebra\n",
    "import pandas as pd # data processing, CSV file I/O (e.g. pd.read_csv)\n",
    "import matplotlib.pyplot as plt\n",
    "import seaborn as sns\n",
    "import plotly.graph_objects as go\n",
    "import plotly.express as px\n",
    "from sklearn.model_selection import train_test_split\n",
    "from sklearn.metrics import classification_report, accuracy_score\n",
    "from tensorflow.keras.models import Sequential\n",
    "from tensorflow.keras.layers import Dense, Flatten\n",
    "from tensorflow.keras.optimizers import Adam\n",
    "from tensorflow.keras.utils import plot_model\n",
    "\n",
    "sns.set_style(\"darkgrid\")\n",
    "pd.set_option(\"display.max_columns\", None)\n",
    "pd.options.plotting.backend = \"plotly\"\n",
    "\n"
   ]
  },
  {
   "cell_type": "code",
   "execution_count": 2,
   "id": "dadb02ec",
   "metadata": {
    "execution": {
     "iopub.execute_input": "2024-09-09T08:59:17.771580Z",
     "iopub.status.busy": "2024-09-09T08:59:17.770067Z",
     "iopub.status.idle": "2024-09-09T08:59:17.832805Z",
     "shell.execute_reply": "2024-09-09T08:59:17.831341Z"
    },
    "papermill": {
     "duration": 0.091723,
     "end_time": "2024-09-09T08:59:17.835632",
     "exception": false,
     "start_time": "2024-09-09T08:59:17.743909",
     "status": "completed"
    },
    "tags": []
   },
   "outputs": [
    {
     "data": {
      "text/html": [
       "<div>\n",
       "<style scoped>\n",
       "    .dataframe tbody tr th:only-of-type {\n",
       "        vertical-align: middle;\n",
       "    }\n",
       "\n",
       "    .dataframe tbody tr th {\n",
       "        vertical-align: top;\n",
       "    }\n",
       "\n",
       "    .dataframe thead th {\n",
       "        text-align: right;\n",
       "    }\n",
       "</style>\n",
       "<table border=\"1\" class=\"dataframe\">\n",
       "  <thead>\n",
       "    <tr style=\"text-align: right;\">\n",
       "      <th></th>\n",
       "      <th>A1_Score</th>\n",
       "      <th>A2_Score</th>\n",
       "      <th>A3_Score</th>\n",
       "      <th>A4_Score</th>\n",
       "      <th>A5_Score</th>\n",
       "      <th>A6_Score</th>\n",
       "      <th>A7_Score</th>\n",
       "      <th>A8_Score</th>\n",
       "      <th>A9_Score</th>\n",
       "      <th>A10_Score</th>\n",
       "      <th>age</th>\n",
       "      <th>gender</th>\n",
       "      <th>ethnicity</th>\n",
       "      <th>jundice</th>\n",
       "      <th>austim</th>\n",
       "      <th>contry_of_res</th>\n",
       "      <th>used_app_before</th>\n",
       "      <th>result</th>\n",
       "      <th>age_desc</th>\n",
       "      <th>relation</th>\n",
       "      <th>Class/ASD</th>\n",
       "    </tr>\n",
       "  </thead>\n",
       "  <tbody>\n",
       "    <tr>\n",
       "      <th>0</th>\n",
       "      <td>1</td>\n",
       "      <td>1</td>\n",
       "      <td>1</td>\n",
       "      <td>1</td>\n",
       "      <td>0</td>\n",
       "      <td>0</td>\n",
       "      <td>1</td>\n",
       "      <td>1</td>\n",
       "      <td>0</td>\n",
       "      <td>0</td>\n",
       "      <td>26.0</td>\n",
       "      <td>f</td>\n",
       "      <td>White-European</td>\n",
       "      <td>no</td>\n",
       "      <td>no</td>\n",
       "      <td>United States</td>\n",
       "      <td>no</td>\n",
       "      <td>6.0</td>\n",
       "      <td>18 and more</td>\n",
       "      <td>Self</td>\n",
       "      <td>NO</td>\n",
       "    </tr>\n",
       "    <tr>\n",
       "      <th>1</th>\n",
       "      <td>1</td>\n",
       "      <td>1</td>\n",
       "      <td>0</td>\n",
       "      <td>1</td>\n",
       "      <td>0</td>\n",
       "      <td>0</td>\n",
       "      <td>0</td>\n",
       "      <td>1</td>\n",
       "      <td>0</td>\n",
       "      <td>1</td>\n",
       "      <td>24.0</td>\n",
       "      <td>m</td>\n",
       "      <td>Latino</td>\n",
       "      <td>no</td>\n",
       "      <td>yes</td>\n",
       "      <td>Brazil</td>\n",
       "      <td>no</td>\n",
       "      <td>5.0</td>\n",
       "      <td>18 and more</td>\n",
       "      <td>Self</td>\n",
       "      <td>NO</td>\n",
       "    </tr>\n",
       "    <tr>\n",
       "      <th>2</th>\n",
       "      <td>1</td>\n",
       "      <td>1</td>\n",
       "      <td>0</td>\n",
       "      <td>1</td>\n",
       "      <td>1</td>\n",
       "      <td>0</td>\n",
       "      <td>1</td>\n",
       "      <td>1</td>\n",
       "      <td>1</td>\n",
       "      <td>1</td>\n",
       "      <td>27.0</td>\n",
       "      <td>m</td>\n",
       "      <td>Latino</td>\n",
       "      <td>yes</td>\n",
       "      <td>yes</td>\n",
       "      <td>Spain</td>\n",
       "      <td>no</td>\n",
       "      <td>8.0</td>\n",
       "      <td>18 and more</td>\n",
       "      <td>Parent</td>\n",
       "      <td>YES</td>\n",
       "    </tr>\n",
       "    <tr>\n",
       "      <th>3</th>\n",
       "      <td>1</td>\n",
       "      <td>1</td>\n",
       "      <td>0</td>\n",
       "      <td>1</td>\n",
       "      <td>0</td>\n",
       "      <td>0</td>\n",
       "      <td>1</td>\n",
       "      <td>1</td>\n",
       "      <td>0</td>\n",
       "      <td>1</td>\n",
       "      <td>35.0</td>\n",
       "      <td>f</td>\n",
       "      <td>White-European</td>\n",
       "      <td>no</td>\n",
       "      <td>yes</td>\n",
       "      <td>United States</td>\n",
       "      <td>no</td>\n",
       "      <td>6.0</td>\n",
       "      <td>18 and more</td>\n",
       "      <td>Self</td>\n",
       "      <td>NO</td>\n",
       "    </tr>\n",
       "    <tr>\n",
       "      <th>4</th>\n",
       "      <td>1</td>\n",
       "      <td>0</td>\n",
       "      <td>0</td>\n",
       "      <td>0</td>\n",
       "      <td>0</td>\n",
       "      <td>0</td>\n",
       "      <td>0</td>\n",
       "      <td>1</td>\n",
       "      <td>0</td>\n",
       "      <td>0</td>\n",
       "      <td>40.0</td>\n",
       "      <td>f</td>\n",
       "      <td>?</td>\n",
       "      <td>no</td>\n",
       "      <td>no</td>\n",
       "      <td>Egypt</td>\n",
       "      <td>no</td>\n",
       "      <td>2.0</td>\n",
       "      <td>18 and more</td>\n",
       "      <td>?</td>\n",
       "      <td>NO</td>\n",
       "    </tr>\n",
       "  </tbody>\n",
       "</table>\n",
       "</div>"
      ],
      "text/plain": [
       "   A1_Score  A2_Score  A3_Score  A4_Score  A5_Score  A6_Score  A7_Score  \\\n",
       "0         1         1         1         1         0         0         1   \n",
       "1         1         1         0         1         0         0         0   \n",
       "2         1         1         0         1         1         0         1   \n",
       "3         1         1         0         1         0         0         1   \n",
       "4         1         0         0         0         0         0         0   \n",
       "\n",
       "   A8_Score  A9_Score  A10_Score   age gender       ethnicity jundice austim  \\\n",
       "0         1         0          0  26.0      f  White-European      no     no   \n",
       "1         1         0          1  24.0      m          Latino      no    yes   \n",
       "2         1         1          1  27.0      m          Latino     yes    yes   \n",
       "3         1         0          1  35.0      f  White-European      no    yes   \n",
       "4         1         0          0  40.0      f               ?      no     no   \n",
       "\n",
       "   contry_of_res used_app_before  result     age_desc relation Class/ASD  \n",
       "0  United States              no     6.0  18 and more     Self        NO  \n",
       "1         Brazil              no     5.0  18 and more     Self        NO  \n",
       "2          Spain              no     8.0  18 and more   Parent       YES  \n",
       "3  United States              no     6.0  18 and more     Self        NO  \n",
       "4          Egypt              no     2.0  18 and more        ?        NO  "
      ]
     },
     "execution_count": 2,
     "metadata": {},
     "output_type": "execute_result"
    }
   ],
   "source": [
    "df = pd.read_csv(\"autism_screening.csv\")\n",
    "\n",
    "df.head()"
   ]
  },
  {
   "cell_type": "code",
   "execution_count": 3,
   "id": "f1489d0d",
   "metadata": {
    "execution": {
     "iopub.execute_input": "2024-09-09T08:59:17.885128Z",
     "iopub.status.busy": "2024-09-09T08:59:17.884665Z",
     "iopub.status.idle": "2024-09-09T08:59:17.893243Z",
     "shell.execute_reply": "2024-09-09T08:59:17.891704Z"
    },
    "papermill": {
     "duration": 0.037078,
     "end_time": "2024-09-09T08:59:17.896539",
     "exception": false,
     "start_time": "2024-09-09T08:59:17.859461",
     "status": "completed"
    },
    "tags": []
   },
   "outputs": [
    {
     "data": {
      "text/plain": [
       "(704, 21)"
      ]
     },
     "execution_count": 3,
     "metadata": {},
     "output_type": "execute_result"
    }
   ],
   "source": [
    "df.shape"
   ]
  },
  {
   "cell_type": "markdown",
   "id": "393f3f30",
   "metadata": {
    "papermill": {
     "duration": 0.021822,
     "end_time": "2024-09-09T08:59:17.939495",
     "exception": false,
     "start_time": "2024-09-09T08:59:17.917673",
     "status": "completed"
    },
    "tags": []
   },
   "source": [
    "### Datatypes of each feature:"
   ]
  },
  {
   "cell_type": "code",
   "execution_count": null,
   "id": "4f067aa7",
   "metadata": {
    "execution": {
     "iopub.execute_input": "2024-09-09T08:59:17.985005Z",
     "iopub.status.busy": "2024-09-09T08:59:17.984583Z",
     "iopub.status.idle": "2024-09-09T08:59:18.001409Z",
     "shell.execute_reply": "2024-09-09T08:59:17.999992Z"
    },
    "papermill": {
     "duration": 0.042493,
     "end_time": "2024-09-09T08:59:18.004500",
     "exception": false,
     "start_time": "2024-09-09T08:59:17.962007",
     "status": "completed"
    },
    "tags": []
   },
   "outputs": [
    {
     "data": {
      "text/html": [
       "<div>\n",
       "<style scoped>\n",
       "    .dataframe tbody tr th:only-of-type {\n",
       "        vertical-align: middle;\n",
       "    }\n",
       "\n",
       "    .dataframe tbody tr th {\n",
       "        vertical-align: top;\n",
       "    }\n",
       "\n",
       "    .dataframe thead th {\n",
       "        text-align: right;\n",
       "    }\n",
       "</style>\n",
       "<table border=\"1\" class=\"dataframe\">\n",
       "  <thead>\n",
       "    <tr style=\"text-align: right;\">\n",
       "      <th></th>\n",
       "      <th>Data Type</th>\n",
       "    </tr>\n",
       "  </thead>\n",
       "  <tbody>\n",
       "    <tr>\n",
       "      <th>A1_Score</th>\n",
       "      <td>int64</td>\n",
       "    </tr>\n",
       "    <tr>\n",
       "      <th>A2_Score</th>\n",
       "      <td>int64</td>\n",
       "    </tr>\n",
       "    <tr>\n",
       "      <th>A3_Score</th>\n",
       "      <td>int64</td>\n",
       "    </tr>\n",
       "    <tr>\n",
       "      <th>A4_Score</th>\n",
       "      <td>int64</td>\n",
       "    </tr>\n",
       "    <tr>\n",
       "      <th>A5_Score</th>\n",
       "      <td>int64</td>\n",
       "    </tr>\n",
       "    <tr>\n",
       "      <th>A6_Score</th>\n",
       "      <td>int64</td>\n",
       "    </tr>\n",
       "    <tr>\n",
       "      <th>A7_Score</th>\n",
       "      <td>int64</td>\n",
       "    </tr>\n",
       "    <tr>\n",
       "      <th>A8_Score</th>\n",
       "      <td>int64</td>\n",
       "    </tr>\n",
       "    <tr>\n",
       "      <th>A9_Score</th>\n",
       "      <td>int64</td>\n",
       "    </tr>\n",
       "    <tr>\n",
       "      <th>A10_Score</th>\n",
       "      <td>int64</td>\n",
       "    </tr>\n",
       "    <tr>\n",
       "      <th>age</th>\n",
       "      <td>float64</td>\n",
       "    </tr>\n",
       "    <tr>\n",
       "      <th>gender</th>\n",
       "      <td>object</td>\n",
       "    </tr>\n",
       "    <tr>\n",
       "      <th>ethnicity</th>\n",
       "      <td>object</td>\n",
       "    </tr>\n",
       "    <tr>\n",
       "      <th>jundice</th>\n",
       "      <td>object</td>\n",
       "    </tr>\n",
       "    <tr>\n",
       "      <th>austim</th>\n",
       "      <td>object</td>\n",
       "    </tr>\n",
       "    <tr>\n",
       "      <th>contry_of_res</th>\n",
       "      <td>object</td>\n",
       "    </tr>\n",
       "    <tr>\n",
       "      <th>used_app_before</th>\n",
       "      <td>object</td>\n",
       "    </tr>\n",
       "    <tr>\n",
       "      <th>result</th>\n",
       "      <td>float64</td>\n",
       "    </tr>\n",
       "    <tr>\n",
       "      <th>age_desc</th>\n",
       "      <td>object</td>\n",
       "    </tr>\n",
       "    <tr>\n",
       "      <th>relation</th>\n",
       "      <td>object</td>\n",
       "    </tr>\n",
       "    <tr>\n",
       "      <th>Class/ASD</th>\n",
       "      <td>object</td>\n",
       "    </tr>\n",
       "  </tbody>\n",
       "</table>\n",
       "</div>"
      ],
      "text/plain": [
       "                Data Type\n",
       "A1_Score            int64\n",
       "A2_Score            int64\n",
       "A3_Score            int64\n",
       "A4_Score            int64\n",
       "A5_Score            int64\n",
       "A6_Score            int64\n",
       "A7_Score            int64\n",
       "A8_Score            int64\n",
       "A9_Score            int64\n",
       "A10_Score           int64\n",
       "age               float64\n",
       "gender             object\n",
       "ethnicity          object\n",
       "jundice            object\n",
       "austim             object\n",
       "contry_of_res      object\n",
       "used_app_before    object\n",
       "result            float64\n",
       "age_desc           object\n",
       "relation           object\n",
       "Class/ASD          object"
      ]
     },
     "execution_count": 4,
     "metadata": {},
     "output_type": "execute_result"
    }
   ],
   "source": [
    "pd.DataFrame(df.dtypes,columns = [\"Data Type\"])"
   ]
  },
  {
   "cell_type": "markdown",
   "id": "9b1196c4",
   "metadata": {
    "papermill": {
     "duration": 0.02307,
     "end_time": "2024-09-09T08:59:18.052113",
     "exception": false,
     "start_time": "2024-09-09T08:59:18.029043",
     "status": "completed"
    },
    "tags": []
   },
   "source": [
    "### Descriptive statistical measures of the dataset"
   ]
  },
  {
   "cell_type": "code",
   "execution_count": 5,
   "id": "5f0ffb36",
   "metadata": {
    "execution": {
     "iopub.execute_input": "2024-09-09T08:59:18.098715Z",
     "iopub.status.busy": "2024-09-09T08:59:18.098303Z",
     "iopub.status.idle": "2024-09-09T08:59:18.159109Z",
     "shell.execute_reply": "2024-09-09T08:59:18.157606Z"
    },
    "papermill": {
     "duration": 0.087631,
     "end_time": "2024-09-09T08:59:18.162328",
     "exception": false,
     "start_time": "2024-09-09T08:59:18.074697",
     "status": "completed"
    },
    "tags": []
   },
   "outputs": [
    {
     "data": {
      "text/html": [
       "<div>\n",
       "<style scoped>\n",
       "    .dataframe tbody tr th:only-of-type {\n",
       "        vertical-align: middle;\n",
       "    }\n",
       "\n",
       "    .dataframe tbody tr th {\n",
       "        vertical-align: top;\n",
       "    }\n",
       "\n",
       "    .dataframe thead th {\n",
       "        text-align: right;\n",
       "    }\n",
       "</style>\n",
       "<table border=\"1\" class=\"dataframe\">\n",
       "  <thead>\n",
       "    <tr style=\"text-align: right;\">\n",
       "      <th></th>\n",
       "      <th>count</th>\n",
       "      <th>mean</th>\n",
       "      <th>std</th>\n",
       "      <th>min</th>\n",
       "      <th>25%</th>\n",
       "      <th>50%</th>\n",
       "      <th>75%</th>\n",
       "      <th>max</th>\n",
       "    </tr>\n",
       "  </thead>\n",
       "  <tbody>\n",
       "    <tr>\n",
       "      <th>A1_Score</th>\n",
       "      <td>704.0</td>\n",
       "      <td>0.721591</td>\n",
       "      <td>0.448535</td>\n",
       "      <td>0.0</td>\n",
       "      <td>0.0</td>\n",
       "      <td>1.0</td>\n",
       "      <td>1.0</td>\n",
       "      <td>1.0</td>\n",
       "    </tr>\n",
       "    <tr>\n",
       "      <th>A2_Score</th>\n",
       "      <td>704.0</td>\n",
       "      <td>0.453125</td>\n",
       "      <td>0.498152</td>\n",
       "      <td>0.0</td>\n",
       "      <td>0.0</td>\n",
       "      <td>0.0</td>\n",
       "      <td>1.0</td>\n",
       "      <td>1.0</td>\n",
       "    </tr>\n",
       "    <tr>\n",
       "      <th>A3_Score</th>\n",
       "      <td>704.0</td>\n",
       "      <td>0.457386</td>\n",
       "      <td>0.498535</td>\n",
       "      <td>0.0</td>\n",
       "      <td>0.0</td>\n",
       "      <td>0.0</td>\n",
       "      <td>1.0</td>\n",
       "      <td>1.0</td>\n",
       "    </tr>\n",
       "    <tr>\n",
       "      <th>A4_Score</th>\n",
       "      <td>704.0</td>\n",
       "      <td>0.495739</td>\n",
       "      <td>0.500337</td>\n",
       "      <td>0.0</td>\n",
       "      <td>0.0</td>\n",
       "      <td>0.0</td>\n",
       "      <td>1.0</td>\n",
       "      <td>1.0</td>\n",
       "    </tr>\n",
       "    <tr>\n",
       "      <th>A5_Score</th>\n",
       "      <td>704.0</td>\n",
       "      <td>0.498580</td>\n",
       "      <td>0.500353</td>\n",
       "      <td>0.0</td>\n",
       "      <td>0.0</td>\n",
       "      <td>0.0</td>\n",
       "      <td>1.0</td>\n",
       "      <td>1.0</td>\n",
       "    </tr>\n",
       "    <tr>\n",
       "      <th>A6_Score</th>\n",
       "      <td>704.0</td>\n",
       "      <td>0.284091</td>\n",
       "      <td>0.451301</td>\n",
       "      <td>0.0</td>\n",
       "      <td>0.0</td>\n",
       "      <td>0.0</td>\n",
       "      <td>1.0</td>\n",
       "      <td>1.0</td>\n",
       "    </tr>\n",
       "    <tr>\n",
       "      <th>A7_Score</th>\n",
       "      <td>704.0</td>\n",
       "      <td>0.417614</td>\n",
       "      <td>0.493516</td>\n",
       "      <td>0.0</td>\n",
       "      <td>0.0</td>\n",
       "      <td>0.0</td>\n",
       "      <td>1.0</td>\n",
       "      <td>1.0</td>\n",
       "    </tr>\n",
       "    <tr>\n",
       "      <th>A8_Score</th>\n",
       "      <td>704.0</td>\n",
       "      <td>0.649148</td>\n",
       "      <td>0.477576</td>\n",
       "      <td>0.0</td>\n",
       "      <td>0.0</td>\n",
       "      <td>1.0</td>\n",
       "      <td>1.0</td>\n",
       "      <td>1.0</td>\n",
       "    </tr>\n",
       "    <tr>\n",
       "      <th>A9_Score</th>\n",
       "      <td>704.0</td>\n",
       "      <td>0.323864</td>\n",
       "      <td>0.468281</td>\n",
       "      <td>0.0</td>\n",
       "      <td>0.0</td>\n",
       "      <td>0.0</td>\n",
       "      <td>1.0</td>\n",
       "      <td>1.0</td>\n",
       "    </tr>\n",
       "    <tr>\n",
       "      <th>A10_Score</th>\n",
       "      <td>704.0</td>\n",
       "      <td>0.573864</td>\n",
       "      <td>0.494866</td>\n",
       "      <td>0.0</td>\n",
       "      <td>0.0</td>\n",
       "      <td>1.0</td>\n",
       "      <td>1.0</td>\n",
       "      <td>1.0</td>\n",
       "    </tr>\n",
       "    <tr>\n",
       "      <th>age</th>\n",
       "      <td>702.0</td>\n",
       "      <td>29.698006</td>\n",
       "      <td>16.507465</td>\n",
       "      <td>17.0</td>\n",
       "      <td>21.0</td>\n",
       "      <td>27.0</td>\n",
       "      <td>35.0</td>\n",
       "      <td>383.0</td>\n",
       "    </tr>\n",
       "    <tr>\n",
       "      <th>result</th>\n",
       "      <td>704.0</td>\n",
       "      <td>4.875000</td>\n",
       "      <td>2.501493</td>\n",
       "      <td>0.0</td>\n",
       "      <td>3.0</td>\n",
       "      <td>4.0</td>\n",
       "      <td>7.0</td>\n",
       "      <td>10.0</td>\n",
       "    </tr>\n",
       "  </tbody>\n",
       "</table>\n",
       "</div>"
      ],
      "text/plain": [
       "           count       mean        std   min   25%   50%   75%    max\n",
       "A1_Score   704.0   0.721591   0.448535   0.0   0.0   1.0   1.0    1.0\n",
       "A2_Score   704.0   0.453125   0.498152   0.0   0.0   0.0   1.0    1.0\n",
       "A3_Score   704.0   0.457386   0.498535   0.0   0.0   0.0   1.0    1.0\n",
       "A4_Score   704.0   0.495739   0.500337   0.0   0.0   0.0   1.0    1.0\n",
       "A5_Score   704.0   0.498580   0.500353   0.0   0.0   0.0   1.0    1.0\n",
       "A6_Score   704.0   0.284091   0.451301   0.0   0.0   0.0   1.0    1.0\n",
       "A7_Score   704.0   0.417614   0.493516   0.0   0.0   0.0   1.0    1.0\n",
       "A8_Score   704.0   0.649148   0.477576   0.0   0.0   1.0   1.0    1.0\n",
       "A9_Score   704.0   0.323864   0.468281   0.0   0.0   0.0   1.0    1.0\n",
       "A10_Score  704.0   0.573864   0.494866   0.0   0.0   1.0   1.0    1.0\n",
       "age        702.0  29.698006  16.507465  17.0  21.0  27.0  35.0  383.0\n",
       "result     704.0   4.875000   2.501493   0.0   3.0   4.0   7.0   10.0"
      ]
     },
     "execution_count": 5,
     "metadata": {},
     "output_type": "execute_result"
    }
   ],
   "source": [
    "df.describe().T"
   ]
  },
  {
   "cell_type": "markdown",
   "id": "aa468a31",
   "metadata": {
    "papermill": {
     "duration": 0.022907,
     "end_time": "2024-09-09T08:59:18.253283",
     "exception": false,
     "start_time": "2024-09-09T08:59:18.230376",
     "status": "completed"
    },
    "tags": []
   },
   "source": [
    "### Check Null values:"
   ]
  },
  {
   "cell_type": "code",
   "execution_count": 6,
   "id": "cb7c357a",
   "metadata": {
    "execution": {
     "iopub.execute_input": "2024-09-09T08:59:18.301781Z",
     "iopub.status.busy": "2024-09-09T08:59:18.301357Z",
     "iopub.status.idle": "2024-09-09T08:59:18.466698Z",
     "shell.execute_reply": "2024-09-09T08:59:18.465209Z"
    },
    "papermill": {
     "duration": 0.19295,
     "end_time": "2024-09-09T08:59:18.470106",
     "exception": false,
     "start_time": "2024-09-09T08:59:18.277156",
     "status": "completed"
    },
    "tags": []
   },
   "outputs": [
    {
     "data": {
      "text/html": [
       "<style type=\"text/css\">\n",
       "#T_24d65_row0_col0, #T_24d65_row1_col0, #T_24d65_row2_col0, #T_24d65_row3_col0, #T_24d65_row4_col0, #T_24d65_row5_col0, #T_24d65_row6_col0, #T_24d65_row7_col0, #T_24d65_row8_col0, #T_24d65_row9_col0, #T_24d65_row11_col0, #T_24d65_row12_col0, #T_24d65_row13_col0, #T_24d65_row14_col0, #T_24d65_row15_col0, #T_24d65_row16_col0, #T_24d65_row17_col0, #T_24d65_row18_col0, #T_24d65_row19_col0, #T_24d65_row20_col0 {\n",
       "  width: 10em;\n",
       "}\n",
       "#T_24d65_row10_col0 {\n",
       "  width: 10em;\n",
       "  background: linear-gradient(90deg, #84A9AC 100.0%, transparent 100.0%);\n",
       "}\n",
       "</style>\n",
       "<table id=\"T_24d65\">\n",
       "  <thead>\n",
       "    <tr>\n",
       "      <th class=\"blank level0\" >&nbsp;</th>\n",
       "      <th id=\"T_24d65_level0_col0\" class=\"col_heading level0 col0\" >Missing Values</th>\n",
       "    </tr>\n",
       "  </thead>\n",
       "  <tbody>\n",
       "    <tr>\n",
       "      <th id=\"T_24d65_level0_row0\" class=\"row_heading level0 row0\" >A1_Score</th>\n",
       "      <td id=\"T_24d65_row0_col0\" class=\"data row0 col0\" >0</td>\n",
       "    </tr>\n",
       "    <tr>\n",
       "      <th id=\"T_24d65_level0_row1\" class=\"row_heading level0 row1\" >A2_Score</th>\n",
       "      <td id=\"T_24d65_row1_col0\" class=\"data row1 col0\" >0</td>\n",
       "    </tr>\n",
       "    <tr>\n",
       "      <th id=\"T_24d65_level0_row2\" class=\"row_heading level0 row2\" >A3_Score</th>\n",
       "      <td id=\"T_24d65_row2_col0\" class=\"data row2 col0\" >0</td>\n",
       "    </tr>\n",
       "    <tr>\n",
       "      <th id=\"T_24d65_level0_row3\" class=\"row_heading level0 row3\" >A4_Score</th>\n",
       "      <td id=\"T_24d65_row3_col0\" class=\"data row3 col0\" >0</td>\n",
       "    </tr>\n",
       "    <tr>\n",
       "      <th id=\"T_24d65_level0_row4\" class=\"row_heading level0 row4\" >A5_Score</th>\n",
       "      <td id=\"T_24d65_row4_col0\" class=\"data row4 col0\" >0</td>\n",
       "    </tr>\n",
       "    <tr>\n",
       "      <th id=\"T_24d65_level0_row5\" class=\"row_heading level0 row5\" >A6_Score</th>\n",
       "      <td id=\"T_24d65_row5_col0\" class=\"data row5 col0\" >0</td>\n",
       "    </tr>\n",
       "    <tr>\n",
       "      <th id=\"T_24d65_level0_row6\" class=\"row_heading level0 row6\" >A7_Score</th>\n",
       "      <td id=\"T_24d65_row6_col0\" class=\"data row6 col0\" >0</td>\n",
       "    </tr>\n",
       "    <tr>\n",
       "      <th id=\"T_24d65_level0_row7\" class=\"row_heading level0 row7\" >A8_Score</th>\n",
       "      <td id=\"T_24d65_row7_col0\" class=\"data row7 col0\" >0</td>\n",
       "    </tr>\n",
       "    <tr>\n",
       "      <th id=\"T_24d65_level0_row8\" class=\"row_heading level0 row8\" >A9_Score</th>\n",
       "      <td id=\"T_24d65_row8_col0\" class=\"data row8 col0\" >0</td>\n",
       "    </tr>\n",
       "    <tr>\n",
       "      <th id=\"T_24d65_level0_row9\" class=\"row_heading level0 row9\" >A10_Score</th>\n",
       "      <td id=\"T_24d65_row9_col0\" class=\"data row9 col0\" >0</td>\n",
       "    </tr>\n",
       "    <tr>\n",
       "      <th id=\"T_24d65_level0_row10\" class=\"row_heading level0 row10\" >age</th>\n",
       "      <td id=\"T_24d65_row10_col0\" class=\"data row10 col0\" >2</td>\n",
       "    </tr>\n",
       "    <tr>\n",
       "      <th id=\"T_24d65_level0_row11\" class=\"row_heading level0 row11\" >gender</th>\n",
       "      <td id=\"T_24d65_row11_col0\" class=\"data row11 col0\" >0</td>\n",
       "    </tr>\n",
       "    <tr>\n",
       "      <th id=\"T_24d65_level0_row12\" class=\"row_heading level0 row12\" >ethnicity</th>\n",
       "      <td id=\"T_24d65_row12_col0\" class=\"data row12 col0\" >0</td>\n",
       "    </tr>\n",
       "    <tr>\n",
       "      <th id=\"T_24d65_level0_row13\" class=\"row_heading level0 row13\" >jundice</th>\n",
       "      <td id=\"T_24d65_row13_col0\" class=\"data row13 col0\" >0</td>\n",
       "    </tr>\n",
       "    <tr>\n",
       "      <th id=\"T_24d65_level0_row14\" class=\"row_heading level0 row14\" >austim</th>\n",
       "      <td id=\"T_24d65_row14_col0\" class=\"data row14 col0\" >0</td>\n",
       "    </tr>\n",
       "    <tr>\n",
       "      <th id=\"T_24d65_level0_row15\" class=\"row_heading level0 row15\" >contry_of_res</th>\n",
       "      <td id=\"T_24d65_row15_col0\" class=\"data row15 col0\" >0</td>\n",
       "    </tr>\n",
       "    <tr>\n",
       "      <th id=\"T_24d65_level0_row16\" class=\"row_heading level0 row16\" >used_app_before</th>\n",
       "      <td id=\"T_24d65_row16_col0\" class=\"data row16 col0\" >0</td>\n",
       "    </tr>\n",
       "    <tr>\n",
       "      <th id=\"T_24d65_level0_row17\" class=\"row_heading level0 row17\" >result</th>\n",
       "      <td id=\"T_24d65_row17_col0\" class=\"data row17 col0\" >0</td>\n",
       "    </tr>\n",
       "    <tr>\n",
       "      <th id=\"T_24d65_level0_row18\" class=\"row_heading level0 row18\" >age_desc</th>\n",
       "      <td id=\"T_24d65_row18_col0\" class=\"data row18 col0\" >0</td>\n",
       "    </tr>\n",
       "    <tr>\n",
       "      <th id=\"T_24d65_level0_row19\" class=\"row_heading level0 row19\" >relation</th>\n",
       "      <td id=\"T_24d65_row19_col0\" class=\"data row19 col0\" >0</td>\n",
       "    </tr>\n",
       "    <tr>\n",
       "      <th id=\"T_24d65_level0_row20\" class=\"row_heading level0 row20\" >Class/ASD</th>\n",
       "      <td id=\"T_24d65_row20_col0\" class=\"data row20 col0\" >0</td>\n",
       "    </tr>\n",
       "  </tbody>\n",
       "</table>\n"
      ],
      "text/plain": [
       "<pandas.io.formats.style.Styler at 0x307c02010>"
      ]
     },
     "execution_count": 6,
     "metadata": {},
     "output_type": "execute_result"
    }
   ],
   "source": [
    "pd.DataFrame(df.isnull().sum(), columns=[\"Missing Values\"]).style.bar(color = \"#84A9AC\")"
   ]
  },
  {
   "cell_type": "markdown",
   "id": "1254c340",
   "metadata": {
    "papermill": {
     "duration": 0.02346,
     "end_time": "2024-09-09T08:59:18.515649",
     "exception": false,
     "start_time": "2024-09-09T08:59:18.492189",
     "status": "completed"
    },
    "tags": []
   },
   "source": [
    "### Replace null value in age with mean"
   ]
  },
  {
   "cell_type": "code",
   "execution_count": 7,
   "id": "60833d53",
   "metadata": {
    "execution": {
     "iopub.execute_input": "2024-09-09T08:59:18.565027Z",
     "iopub.status.busy": "2024-09-09T08:59:18.564220Z",
     "iopub.status.idle": "2024-09-09T08:59:18.573664Z",
     "shell.execute_reply": "2024-09-09T08:59:18.572382Z"
    },
    "papermill": {
     "duration": 0.038574,
     "end_time": "2024-09-09T08:59:18.577623",
     "exception": false,
     "start_time": "2024-09-09T08:59:18.539049",
     "status": "completed"
    },
    "tags": []
   },
   "outputs": [],
   "source": [
    "df['age'] = df['age'].fillna(np.round(df['age'].mean(), 0))"
   ]
  },
  {
   "cell_type": "code",
   "execution_count": 8,
   "id": "c1346674",
   "metadata": {
    "execution": {
     "iopub.execute_input": "2024-09-09T08:59:18.626239Z",
     "iopub.status.busy": "2024-09-09T08:59:18.625624Z",
     "iopub.status.idle": "2024-09-09T08:59:18.642869Z",
     "shell.execute_reply": "2024-09-09T08:59:18.641524Z"
    },
    "papermill": {
     "duration": 0.044625,
     "end_time": "2024-09-09T08:59:18.646505",
     "exception": false,
     "start_time": "2024-09-09T08:59:18.601880",
     "status": "completed"
    },
    "tags": []
   },
   "outputs": [
    {
     "data": {
      "text/html": [
       "<div>\n",
       "<style scoped>\n",
       "    .dataframe tbody tr th:only-of-type {\n",
       "        vertical-align: middle;\n",
       "    }\n",
       "\n",
       "    .dataframe tbody tr th {\n",
       "        vertical-align: top;\n",
       "    }\n",
       "\n",
       "    .dataframe thead th {\n",
       "        text-align: right;\n",
       "    }\n",
       "</style>\n",
       "<table border=\"1\" class=\"dataframe\">\n",
       "  <thead>\n",
       "    <tr style=\"text-align: right;\">\n",
       "      <th></th>\n",
       "      <th>Missing Values</th>\n",
       "    </tr>\n",
       "  </thead>\n",
       "  <tbody>\n",
       "    <tr>\n",
       "      <th>A1_Score</th>\n",
       "      <td>0</td>\n",
       "    </tr>\n",
       "    <tr>\n",
       "      <th>A2_Score</th>\n",
       "      <td>0</td>\n",
       "    </tr>\n",
       "    <tr>\n",
       "      <th>A3_Score</th>\n",
       "      <td>0</td>\n",
       "    </tr>\n",
       "    <tr>\n",
       "      <th>A4_Score</th>\n",
       "      <td>0</td>\n",
       "    </tr>\n",
       "    <tr>\n",
       "      <th>A5_Score</th>\n",
       "      <td>0</td>\n",
       "    </tr>\n",
       "    <tr>\n",
       "      <th>A6_Score</th>\n",
       "      <td>0</td>\n",
       "    </tr>\n",
       "    <tr>\n",
       "      <th>A7_Score</th>\n",
       "      <td>0</td>\n",
       "    </tr>\n",
       "    <tr>\n",
       "      <th>A8_Score</th>\n",
       "      <td>0</td>\n",
       "    </tr>\n",
       "    <tr>\n",
       "      <th>A9_Score</th>\n",
       "      <td>0</td>\n",
       "    </tr>\n",
       "    <tr>\n",
       "      <th>A10_Score</th>\n",
       "      <td>0</td>\n",
       "    </tr>\n",
       "    <tr>\n",
       "      <th>age</th>\n",
       "      <td>0</td>\n",
       "    </tr>\n",
       "    <tr>\n",
       "      <th>gender</th>\n",
       "      <td>0</td>\n",
       "    </tr>\n",
       "    <tr>\n",
       "      <th>ethnicity</th>\n",
       "      <td>0</td>\n",
       "    </tr>\n",
       "    <tr>\n",
       "      <th>jundice</th>\n",
       "      <td>0</td>\n",
       "    </tr>\n",
       "    <tr>\n",
       "      <th>austim</th>\n",
       "      <td>0</td>\n",
       "    </tr>\n",
       "    <tr>\n",
       "      <th>contry_of_res</th>\n",
       "      <td>0</td>\n",
       "    </tr>\n",
       "    <tr>\n",
       "      <th>used_app_before</th>\n",
       "      <td>0</td>\n",
       "    </tr>\n",
       "    <tr>\n",
       "      <th>result</th>\n",
       "      <td>0</td>\n",
       "    </tr>\n",
       "    <tr>\n",
       "      <th>age_desc</th>\n",
       "      <td>0</td>\n",
       "    </tr>\n",
       "    <tr>\n",
       "      <th>relation</th>\n",
       "      <td>0</td>\n",
       "    </tr>\n",
       "    <tr>\n",
       "      <th>Class/ASD</th>\n",
       "      <td>0</td>\n",
       "    </tr>\n",
       "  </tbody>\n",
       "</table>\n",
       "</div>"
      ],
      "text/plain": [
       "                 Missing Values\n",
       "A1_Score                      0\n",
       "A2_Score                      0\n",
       "A3_Score                      0\n",
       "A4_Score                      0\n",
       "A5_Score                      0\n",
       "A6_Score                      0\n",
       "A7_Score                      0\n",
       "A8_Score                      0\n",
       "A9_Score                      0\n",
       "A10_Score                     0\n",
       "age                           0\n",
       "gender                        0\n",
       "ethnicity                     0\n",
       "jundice                       0\n",
       "austim                        0\n",
       "contry_of_res                 0\n",
       "used_app_before               0\n",
       "result                        0\n",
       "age_desc                      0\n",
       "relation                      0\n",
       "Class/ASD                     0"
      ]
     },
     "execution_count": 8,
     "metadata": {},
     "output_type": "execute_result"
    }
   ],
   "source": [
    "pd.DataFrame(df.isnull().sum(), columns=[\"Missing Values\"])"
   ]
  },
  {
   "cell_type": "markdown",
   "id": "e6bd0f74",
   "metadata": {
    "papermill": {
     "duration": 0.093777,
     "end_time": "2024-09-09T08:59:18.764526",
     "exception": false,
     "start_time": "2024-09-09T08:59:18.670749",
     "status": "completed"
    },
    "tags": []
   },
   "source": [
    "### Check unique values:"
   ]
  },
  {
   "cell_type": "code",
   "execution_count": 9,
   "id": "a047eda9",
   "metadata": {
    "execution": {
     "iopub.execute_input": "2024-09-09T08:59:18.813960Z",
     "iopub.status.busy": "2024-09-09T08:59:18.813495Z",
     "iopub.status.idle": "2024-09-09T08:59:18.828045Z",
     "shell.execute_reply": "2024-09-09T08:59:18.826672Z"
    },
    "papermill": {
     "duration": 0.043629,
     "end_time": "2024-09-09T08:59:18.832101",
     "exception": false,
     "start_time": "2024-09-09T08:59:18.788472",
     "status": "completed"
    },
    "tags": []
   },
   "outputs": [
    {
     "name": "stdout",
     "output_type": "stream",
     "text": [
      "Column name: gender\n",
      "\n",
      "Unique values:\n",
      "['f' 'm']\n",
      "\n",
      "\n",
      "Column name: ethnicity\n",
      "\n",
      "Unique values:\n",
      "['White-European' 'Latino' '?' 'Others' 'Black' 'Asian' 'Middle Eastern '\n",
      " 'Pasifika' 'South Asian' 'Hispanic' 'Turkish' 'others']\n",
      "\n",
      "\n",
      "Column name: jundice\n",
      "\n",
      "Unique values:\n",
      "['no' 'yes']\n",
      "\n",
      "\n",
      "Column name: austim\n",
      "\n",
      "Unique values:\n",
      "['no' 'yes']\n",
      "\n",
      "\n",
      "Column name: contry_of_res\n",
      "\n",
      "Unique values:\n",
      "['United States' 'Brazil' 'Spain' 'Egypt' 'New Zealand' 'Bahamas'\n",
      " 'Burundi' 'Austria' 'Argentina' 'Jordan' 'Ireland' 'United Arab Emirates'\n",
      " 'Afghanistan' 'Lebanon' 'United Kingdom' 'South Africa' 'Italy'\n",
      " 'Pakistan' 'Bangladesh' 'Chile' 'France' 'China' 'Australia' 'Canada'\n",
      " 'Saudi Arabia' 'Netherlands' 'Romania' 'Sweden' 'Tonga' 'Oman' 'India'\n",
      " 'Philippines' 'Sri Lanka' 'Sierra Leone' 'Ethiopia' 'Viet Nam' 'Iran'\n",
      " 'Costa Rica' 'Germany' 'Mexico' 'Russia' 'Armenia' 'Iceland' 'Nicaragua'\n",
      " 'Hong Kong' 'Japan' 'Ukraine' 'Kazakhstan' 'AmericanSamoa' 'Uruguay'\n",
      " 'Serbia' 'Portugal' 'Malaysia' 'Ecuador' 'Niger' 'Belgium' 'Bolivia'\n",
      " 'Aruba' 'Finland' 'Turkey' 'Nepal' 'Indonesia' 'Angola' 'Azerbaijan'\n",
      " 'Iraq' 'Czech Republic' 'Cyprus']\n",
      "\n",
      "\n",
      "Column name: used_app_before\n",
      "\n",
      "Unique values:\n",
      "['no' 'yes']\n",
      "\n",
      "\n",
      "Column name: age_desc\n",
      "\n",
      "Unique values:\n",
      "['18 and more']\n",
      "\n",
      "\n",
      "Column name: relation\n",
      "\n",
      "Unique values:\n",
      "['Self' 'Parent' '?' 'Health care professional' 'Relative' 'Others']\n",
      "\n",
      "\n",
      "Column name: Class/ASD\n",
      "\n",
      "Unique values:\n",
      "['NO' 'YES']\n",
      "\n",
      "\n"
     ]
    }
   ],
   "source": [
    "for col in df.select_dtypes('O').columns:\n",
    "   \n",
    "    print(f'Column name: {col}\\n')\n",
    "    print(f'Unique values:\\n{df[col].unique()}\\n\\n')"
   ]
  },
  {
   "cell_type": "markdown",
   "id": "dc0a5090",
   "metadata": {
    "papermill": {
     "duration": 0.02383,
     "end_time": "2024-09-09T08:59:18.879703",
     "exception": false,
     "start_time": "2024-09-09T08:59:18.855873",
     "status": "completed"
    },
    "tags": []
   },
   "source": [
    "**ethnicity and relation contains some invalid values**"
   ]
  },
  {
   "cell_type": "markdown",
   "id": "712f5b4a",
   "metadata": {
    "papermill": {
     "duration": 0.023261,
     "end_time": "2024-09-09T08:59:18.927324",
     "exception": false,
     "start_time": "2024-09-09T08:59:18.904063",
     "status": "completed"
    },
    "tags": []
   },
   "source": [
    "### Replacing invalid value in ethnicity"
   ]
  },
  {
   "cell_type": "code",
   "execution_count": 10,
   "id": "11dbf10c",
   "metadata": {
    "execution": {
     "iopub.execute_input": "2024-09-09T08:59:18.975222Z",
     "iopub.status.busy": "2024-09-09T08:59:18.974765Z",
     "iopub.status.idle": "2024-09-09T08:59:18.982974Z",
     "shell.execute_reply": "2024-09-09T08:59:18.981710Z"
    },
    "papermill": {
     "duration": 0.035656,
     "end_time": "2024-09-09T08:59:18.986386",
     "exception": false,
     "start_time": "2024-09-09T08:59:18.950730",
     "status": "completed"
    },
    "tags": []
   },
   "outputs": [],
   "source": [
    "df['ethnicity'] = df['ethnicity'].replace('?', 'Others')"
   ]
  },
  {
   "cell_type": "markdown",
   "id": "4d389f32",
   "metadata": {
    "papermill": {
     "duration": 0.022592,
     "end_time": "2024-09-09T08:59:19.032149",
     "exception": false,
     "start_time": "2024-09-09T08:59:19.009557",
     "status": "completed"
    },
    "tags": []
   },
   "source": [
    "In ethnicity feature, \"Others\" and \"others\" are same thing but it is considered different because one is in small case and other is in letter case. So fixing this."
   ]
  },
  {
   "cell_type": "code",
   "execution_count": 11,
   "id": "5b8b30a7",
   "metadata": {
    "execution": {
     "iopub.execute_input": "2024-09-09T08:59:19.079383Z",
     "iopub.status.busy": "2024-09-09T08:59:19.078940Z",
     "iopub.status.idle": "2024-09-09T08:59:19.087568Z",
     "shell.execute_reply": "2024-09-09T08:59:19.085740Z"
    },
    "papermill": {
     "duration": 0.036437,
     "end_time": "2024-09-09T08:59:19.091102",
     "exception": false,
     "start_time": "2024-09-09T08:59:19.054665",
     "status": "completed"
    },
    "tags": []
   },
   "outputs": [],
   "source": [
    "df['ethnicity'] = df['ethnicity'].replace('others', 'Others')"
   ]
  },
  {
   "cell_type": "code",
   "execution_count": 12,
   "id": "1a23e822",
   "metadata": {
    "execution": {
     "iopub.execute_input": "2024-09-09T08:59:19.141348Z",
     "iopub.status.busy": "2024-09-09T08:59:19.139949Z",
     "iopub.status.idle": "2024-09-09T08:59:19.150451Z",
     "shell.execute_reply": "2024-09-09T08:59:19.148990Z"
    },
    "papermill": {
     "duration": 0.039408,
     "end_time": "2024-09-09T08:59:19.153469",
     "exception": false,
     "start_time": "2024-09-09T08:59:19.114061",
     "status": "completed"
    },
    "tags": []
   },
   "outputs": [
    {
     "data": {
      "text/plain": [
       "array(['White-European', 'Latino', 'Others', 'Black', 'Asian',\n",
       "       'Middle Eastern ', 'Pasifika', 'South Asian', 'Hispanic',\n",
       "       'Turkish'], dtype=object)"
      ]
     },
     "execution_count": 12,
     "metadata": {},
     "output_type": "execute_result"
    }
   ],
   "source": [
    "df['ethnicity'].unique()"
   ]
  },
  {
   "cell_type": "markdown",
   "id": "779ea96d",
   "metadata": {
    "papermill": {
     "duration": 0.026203,
     "end_time": "2024-09-09T08:59:19.204576",
     "exception": false,
     "start_time": "2024-09-09T08:59:19.178373",
     "status": "completed"
    },
    "tags": []
   },
   "source": [
    "### Replacing invalid value in relation"
   ]
  },
  {
   "cell_type": "markdown",
   "id": "769264db",
   "metadata": {
    "papermill": {
     "duration": 0.025156,
     "end_time": "2024-09-09T08:59:19.253921",
     "exception": false,
     "start_time": "2024-09-09T08:59:19.228765",
     "status": "completed"
    },
    "tags": []
   },
   "source": [
    "**Replacing ? in relation with mode of relation**"
   ]
  },
  {
   "cell_type": "code",
   "execution_count": 13,
   "id": "9109a74b",
   "metadata": {
    "execution": {
     "iopub.execute_input": "2024-09-09T08:59:19.303913Z",
     "iopub.status.busy": "2024-09-09T08:59:19.303475Z",
     "iopub.status.idle": "2024-09-09T08:59:19.312247Z",
     "shell.execute_reply": "2024-09-09T08:59:19.310777Z"
    },
    "papermill": {
     "duration": 0.036426,
     "end_time": "2024-09-09T08:59:19.314983",
     "exception": false,
     "start_time": "2024-09-09T08:59:19.278557",
     "status": "completed"
    },
    "tags": []
   },
   "outputs": [],
   "source": [
    "df['relation'] = df['relation'].replace('?', df['relation'].mode()[0])"
   ]
  },
  {
   "cell_type": "code",
   "execution_count": 14,
   "id": "49744e7c",
   "metadata": {
    "execution": {
     "iopub.execute_input": "2024-09-09T08:59:19.368495Z",
     "iopub.status.busy": "2024-09-09T08:59:19.367933Z",
     "iopub.status.idle": "2024-09-09T08:59:19.377022Z",
     "shell.execute_reply": "2024-09-09T08:59:19.375428Z"
    },
    "papermill": {
     "duration": 0.039579,
     "end_time": "2024-09-09T08:59:19.381651",
     "exception": false,
     "start_time": "2024-09-09T08:59:19.342072",
     "status": "completed"
    },
    "tags": []
   },
   "outputs": [
    {
     "data": {
      "text/plain": [
       "array(['Self', 'Parent', 'Health care professional', 'Relative', 'Others'],\n",
       "      dtype=object)"
      ]
     },
     "execution_count": 14,
     "metadata": {},
     "output_type": "execute_result"
    }
   ],
   "source": [
    "df['relation'].unique()"
   ]
  },
  {
   "cell_type": "markdown",
   "id": "c607467e",
   "metadata": {
    "papermill": {
     "duration": 0.023374,
     "end_time": "2024-09-09T08:59:19.477617",
     "exception": false,
     "start_time": "2024-09-09T08:59:19.454243",
     "status": "completed"
    },
    "tags": []
   },
   "source": [
    "### Autism disorder count"
   ]
  },
  {
   "cell_type": "code",
   "execution_count": 15,
   "id": "81bea5ed",
   "metadata": {
    "execution": {
     "iopub.execute_input": "2024-09-09T08:59:19.527242Z",
     "iopub.status.busy": "2024-09-09T08:59:19.526796Z",
     "iopub.status.idle": "2024-09-09T08:59:19.720767Z",
     "shell.execute_reply": "2024-09-09T08:59:19.718700Z"
    },
    "papermill": {
     "duration": 0.223892,
     "end_time": "2024-09-09T08:59:19.726035",
     "exception": false,
     "start_time": "2024-09-09T08:59:19.502143",
     "status": "completed"
    },
    "tags": []
   },
   "outputs": [
    {
     "data": {
      "image/png": "[encoded data removed]",
      "text/plain": [
       "<Figure size 640x480 with 1 Axes>"
      ]
     },
     "metadata": {},
     "output_type": "display_data"
    }
   ],
   "source": [
    "plt.pie(df['Class/ASD'].value_counts().values, autopct='%1.1f%%')\n",
    "plt.show()\n"
   ]
  },
  {
   "cell_type": "markdown",
   "id": "99d692fa",
   "metadata": {
    "papermill": {
     "duration": 0.025509,
     "end_time": "2024-09-09T08:59:19.800147",
     "exception": false,
     "start_time": "2024-09-09T08:59:19.774638",
     "status": "completed"
    },
    "tags": []
   },
   "source": [
    "### Autism patient country wise"
   ]
  },
  {
   "cell_type": "code",
   "execution_count": 16,
   "id": "bdd49a15",
   "metadata": {
    "execution": {
     "iopub.execute_input": "2024-09-09T08:59:19.901096Z",
     "iopub.status.busy": "2024-09-09T08:59:19.900629Z",
     "iopub.status.idle": "2024-09-09T08:59:21.549212Z",
     "shell.execute_reply": "2024-09-09T08:59:21.547791Z"
    },
    "papermill": {
     "duration": 1.677862,
     "end_time": "2024-09-09T08:59:21.551913",
     "exception": false,
     "start_time": "2024-09-09T08:59:19.874051",
     "status": "completed"
    },
    "tags": []
   },
   "outputs": [
    {
     "data": {
      "image/png": "[encoded data removed]",
      "text/plain": [
       "<Figure size 1500x500 with 1 Axes>"
      ]
     },
     "metadata": {},
     "output_type": "display_data"
    }
   ],
   "source": [
    "plt.figure(figsize=(15,5))\n",
    "sns.countplot(data=df, x='contry_of_res', hue='Class/ASD')\n",
    "plt.xticks(rotation=90)\n",
    "plt.show()\n"
   ]
  },
  {
   "cell_type": "markdown",
   "id": "709ad312",
   "metadata": {
    "papermill": {
     "duration": 0.024923,
     "end_time": "2024-09-09T08:59:24.615914",
     "exception": false,
     "start_time": "2024-09-09T08:59:24.590991",
     "status": "completed"
    },
    "tags": []
   },
   "source": [
    "### Normal distribution of the age values after log transformations"
   ]
  },
  {
   "cell_type": "code",
   "execution_count": 19,
   "id": "4f42df1d",
   "metadata": {
    "execution": {
     "iopub.execute_input": "2024-09-09T08:59:24.669824Z",
     "iopub.status.busy": "2024-09-09T08:59:24.669403Z",
     "iopub.status.idle": "2024-09-09T08:59:24.678175Z",
     "shell.execute_reply": "2024-09-09T08:59:24.676786Z"
    },
    "papermill": {
     "duration": 0.038983,
     "end_time": "2024-09-09T08:59:24.680842",
     "exception": false,
     "start_time": "2024-09-09T08:59:24.641859",
     "status": "completed"
    },
    "tags": []
   },
   "outputs": [],
   "source": [
    "# Applying log transformations to remove the skewness of the data.\n",
    "df['age'] = df['age'].apply(lambda x: np.log(x))\n"
   ]
  },
  {
   "cell_type": "code",
   "execution_count": 20,
   "id": "25d9f05c",
   "metadata": {
    "execution": {
     "iopub.execute_input": "2024-09-09T08:59:24.735567Z",
     "iopub.status.busy": "2024-09-09T08:59:24.735132Z",
     "iopub.status.idle": "2024-09-09T08:59:25.287778Z",
     "shell.execute_reply": "2024-09-09T08:59:25.286374Z"
    },
    "papermill": {
     "duration": 0.584564,
     "end_time": "2024-09-09T08:59:25.290962",
     "exception": false,
     "start_time": "2024-09-09T08:59:24.706398",
     "status": "completed"
    },
    "tags": []
   },
   "outputs": [
    {
     "name": "stderr",
     "output_type": "stream",
     "text": [
      "/var/folders/d7/69b_q14n7f91jv0xw10s2_c00000gn/T/ipykernel_12857/3438169644.py:1: UserWarning:\n",
      "\n",
      "\n",
      "\n",
      "`distplot` is a deprecated function and will be removed in seaborn v0.14.0.\n",
      "\n",
      "Please adapt your code to use either `displot` (a figure-level function with\n",
      "similar flexibility) or `histplot` (an axes-level function for histograms).\n",
      "\n",
      "For a guide to updating your code to use the new functions, please see\n",
      "https://gist.github.com/mwaskom/de44147ed2974457ad6372750bbe5751\n",
      "\n",
      "\n"
     ]
    },
    {
     "data": {
      "image/png": "[encoded data removed]",
      "text/plain": [
       "<Figure size 640x480 with 1 Axes>"
      ]
     },
     "metadata": {},
     "output_type": "display_data"
    }
   ],
   "source": [
    "sns.distplot(df['age'])\n",
    "plt.show()\n"
   ]
  },
  {
   "cell_type": "markdown",
   "id": "5bc39b17",
   "metadata": {
    "papermill": {
     "duration": 0.028793,
     "end_time": "2024-09-09T08:59:25.347748",
     "exception": false,
     "start_time": "2024-09-09T08:59:25.318955",
     "status": "completed"
    },
    "tags": []
   },
   "source": [
    "### Ethnicity count "
   ]
  },
  {
   "cell_type": "code",
   "execution_count": 21,
   "id": "2d1be591",
   "metadata": {
    "execution": {
     "iopub.execute_input": "2024-09-09T08:59:25.419753Z",
     "iopub.status.busy": "2024-09-09T08:59:25.419276Z",
     "iopub.status.idle": "2024-09-09T08:59:25.995462Z",
     "shell.execute_reply": "2024-09-09T08:59:25.994196Z"
    },
    "papermill": {
     "duration": 0.617553,
     "end_time": "2024-09-09T08:59:25.999387",
     "exception": false,
     "start_time": "2024-09-09T08:59:25.381834",
     "status": "completed"
    },
    "tags": []
   },
   "outputs": [
    {
     "data": {
      "text/plain": [
       "([0, 1, 2, 3, 4, 5, 6, 7, 8, 9],\n",
       " [Text(0, 0, 'White-European'),\n",
       "  Text(1, 0, 'Latino'),\n",
       "  Text(2, 0, 'Others'),\n",
       "  Text(3, 0, 'Black'),\n",
       "  Text(4, 0, 'Asian'),\n",
       "  Text(5, 0, 'Middle Eastern '),\n",
       "  Text(6, 0, 'Pasifika'),\n",
       "  Text(7, 0, 'South Asian'),\n",
       "  Text(8, 0, 'Hispanic'),\n",
       "  Text(9, 0, 'Turkish')])"
      ]
     },
     "execution_count": 21,
     "metadata": {},
     "output_type": "execute_result"
    },
    {
     "data": {
      "image/png": "[encoded data removed]",
      "text/plain": [
       "<Figure size 640x480 with 1 Axes>"
      ]
     },
     "metadata": {},
     "output_type": "display_data"
    }
   ],
   "source": [
    "sns.countplot(x='ethnicity',hue='gender',data=df)\n",
    "plt.xticks(rotation=90)"
   ]
  },
  {
   "cell_type": "markdown",
   "id": "9556b1cb",
   "metadata": {
    "papermill": {
     "duration": 0.026734,
     "end_time": "2024-09-09T08:59:26.130714",
     "exception": false,
     "start_time": "2024-09-09T08:59:26.103980",
     "status": "completed"
    },
    "tags": []
   },
   "source": [
    "**Dropping columns**"
   ]
  },
  {
   "cell_type": "code",
   "execution_count": 22,
   "id": "f9377a77",
   "metadata": {
    "execution": {
     "iopub.execute_input": "2024-09-09T08:59:26.189488Z",
     "iopub.status.busy": "2024-09-09T08:59:26.189034Z",
     "iopub.status.idle": "2024-09-09T08:59:26.198909Z",
     "shell.execute_reply": "2024-09-09T08:59:26.196729Z"
    },
    "papermill": {
     "duration": 0.043781,
     "end_time": "2024-09-09T08:59:26.203436",
     "exception": false,
     "start_time": "2024-09-09T08:59:26.159655",
     "status": "completed"
    },
    "tags": []
   },
   "outputs": [],
   "source": [
    "df.drop(['age_desc'], axis = 1, inplace = True)"
   ]
  },
  {
   "cell_type": "markdown",
   "id": "61bd4493",
   "metadata": {
    "papermill": {
     "duration": 0.028486,
     "end_time": "2024-09-09T08:59:26.260740",
     "exception": false,
     "start_time": "2024-09-09T08:59:26.232254",
     "status": "completed"
    },
    "tags": []
   },
   "source": [
    "**Let’s split the data into training and validation data. **"
   ]
  },
  {
   "cell_type": "code",
   "execution_count": 23,
   "id": "c1b6bdf6",
   "metadata": {
    "execution": {
     "iopub.execute_input": "2024-09-09T08:59:26.320164Z",
     "iopub.status.busy": "2024-09-09T08:59:26.318978Z",
     "iopub.status.idle": "2024-09-09T08:59:26.326715Z",
     "shell.execute_reply": "2024-09-09T08:59:26.325182Z"
    },
    "papermill": {
     "duration": 0.040478,
     "end_time": "2024-09-09T08:59:26.329693",
     "exception": false,
     "start_time": "2024-09-09T08:59:26.289215",
     "status": "completed"
    },
    "tags": []
   },
   "outputs": [],
   "source": [
    "X = df.drop(\"Class/ASD\", axis = 1)    # select all other feature except \"Class/ASD\" for training\n",
    "Y = df['Class/ASD']"
   ]
  },
  {
   "cell_type": "markdown",
   "id": "ee902e9a",
   "metadata": {
    "papermill": {
     "duration": 0.027628,
     "end_time": "2024-09-09T08:59:26.385423",
     "exception": false,
     "start_time": "2024-09-09T08:59:26.357795",
     "status": "completed"
    },
    "tags": []
   },
   "source": [
    "### OneHotEncoding of Categorical features"
   ]
  },
  {
   "cell_type": "code",
   "execution_count": 24,
   "id": "67e9904d",
   "metadata": {
    "execution": {
     "iopub.execute_input": "2024-09-09T08:59:26.443822Z",
     "iopub.status.busy": "2024-09-09T08:59:26.443423Z",
     "iopub.status.idle": "2024-09-09T08:59:26.463477Z",
     "shell.execute_reply": "2024-09-09T08:59:26.461662Z"
    },
    "papermill": {
     "duration": 0.053359,
     "end_time": "2024-09-09T08:59:26.466553",
     "exception": false,
     "start_time": "2024-09-09T08:59:26.413194",
     "status": "completed"
    },
    "tags": []
   },
   "outputs": [],
   "source": [
    "X = pd.get_dummies(X)\n",
    "Y = pd.get_dummies(Y)"
   ]
  },
  {
   "cell_type": "markdown",
   "id": "0504e84b",
   "metadata": {
    "papermill": {
     "duration": 0.026834,
     "end_time": "2024-09-09T08:59:27.002857",
     "exception": false,
     "start_time": "2024-09-09T08:59:26.976023",
     "status": "completed"
    },
    "tags": []
   },
   "source": [
    "## Neural Network Model:"
   ]
  },
  {
   "cell_type": "code",
   "execution_count": 37,
   "id": "cacbbcb8",
   "metadata": {
    "execution": {
     "iopub.execute_input": "2024-09-09T08:59:27.058965Z",
     "iopub.status.busy": "2024-09-09T08:59:27.058515Z",
     "iopub.status.idle": "2024-09-09T08:59:27.065164Z",
     "shell.execute_reply": "2024-09-09T08:59:27.063903Z"
    },
    "papermill": {
     "duration": 0.037903,
     "end_time": "2024-09-09T08:59:27.067853",
     "exception": false,
     "start_time": "2024-09-09T08:59:27.029950",
     "status": "completed"
    },
    "tags": []
   },
   "outputs": [
    {
     "name": "stdout",
     "output_type": "stream",
     "text": [
      "(704, 102) (528, 102) (176, 102) (528, 2)\n",
      "Epoch 1/20\n",
      "53/53 [==============================] - 0s 2ms/step - loss: 0.5936 - accuracy: 0.7614 - val_loss: 0.4943 - val_accuracy: 0.8523\n",
      "Epoch 2/20\n",
      "53/53 [==============================] - 0s 635us/step - loss: 0.3505 - accuracy: 0.8807 - val_loss: 0.3549 - val_accuracy: 0.9034\n",
      "Epoch 3/20\n",
      "53/53 [==============================] - 0s 623us/step - loss: 0.2481 - accuracy: 0.9280 - val_loss: 0.2740 - val_accuracy: 0.9034\n",
      "Epoch 4/20\n",
      "53/53 [==============================] - 0s 1ms/step - loss: 0.1869 - accuracy: 0.9451 - val_loss: 0.2176 - val_accuracy: 0.9091\n",
      "Epoch 5/20\n",
      "53/53 [==============================] - 0s 621us/step - loss: 0.1446 - accuracy: 0.9602 - val_loss: 0.1799 - val_accuracy: 0.9205\n",
      "Epoch 6/20\n",
      "53/53 [==============================] - 0s 598us/step - loss: 0.1148 - accuracy: 0.9754 - val_loss: 0.1553 - val_accuracy: 0.9261\n",
      "Epoch 7/20\n",
      "53/53 [==============================] - 0s 603us/step - loss: 0.0938 - accuracy: 0.9830 - val_loss: 0.1383 - val_accuracy: 0.9432\n",
      "Epoch 8/20\n",
      "53/53 [==============================] - 0s 606us/step - loss: 0.0780 - accuracy: 0.9867 - val_loss: 0.1279 - val_accuracy: 0.9432\n",
      "Epoch 9/20\n",
      "53/53 [==============================] - 0s 590us/step - loss: 0.0661 - accuracy: 0.9886 - val_loss: 0.1171 - val_accuracy: 0.9489\n",
      "Epoch 10/20\n",
      "53/53 [==============================] - 0s 615us/step - loss: 0.0562 - accuracy: 0.9924 - val_loss: 0.1107 - val_accuracy: 0.9432\n",
      "Epoch 11/20\n",
      "53/53 [==============================] - 0s 599us/step - loss: 0.0484 - accuracy: 0.9943 - val_loss: 0.1039 - val_accuracy: 0.9545\n",
      "Epoch 12/20\n",
      "53/53 [==============================] - 0s 599us/step - loss: 0.0420 - accuracy: 0.9943 - val_loss: 0.0988 - val_accuracy: 0.9602\n",
      "Epoch 13/20\n",
      "53/53 [==============================] - 0s 629us/step - loss: 0.0365 - accuracy: 0.9981 - val_loss: 0.0937 - val_accuracy: 0.9602\n",
      "Epoch 14/20\n",
      "53/53 [==============================] - 0s 647us/step - loss: 0.0321 - accuracy: 0.9981 - val_loss: 0.0905 - val_accuracy: 0.9659\n",
      "Epoch 15/20\n",
      "53/53 [==============================] - 0s 931us/step - loss: 0.0284 - accuracy: 1.0000 - val_loss: 0.0889 - val_accuracy: 0.9659\n",
      "Epoch 16/20\n",
      "53/53 [==============================] - 0s 737us/step - loss: 0.0256 - accuracy: 1.0000 - val_loss: 0.0867 - val_accuracy: 0.9659\n",
      "Epoch 17/20\n",
      "53/53 [==============================] - 0s 720us/step - loss: 0.0229 - accuracy: 1.0000 - val_loss: 0.0844 - val_accuracy: 0.9659\n",
      "Epoch 18/20\n",
      "53/53 [==============================] - 0s 672us/step - loss: 0.0206 - accuracy: 1.0000 - val_loss: 0.0846 - val_accuracy: 0.9659\n",
      "Epoch 19/20\n",
      "53/53 [==============================] - 0s 723us/step - loss: 0.0188 - accuracy: 1.0000 - val_loss: 0.0831 - val_accuracy: 0.9659\n",
      "Epoch 20/20\n",
      "53/53 [==============================] - 0s 709us/step - loss: 0.0170 - accuracy: 1.0000 - val_loss: 0.0821 - val_accuracy: 0.9659\n"
     ]
    }
   ],
   "source": [
    "# Written by Ovi, 2025-05-17\n",
    "# Build and train a simple neural network with proper data type and shape handling\n",
    "\n",
    "from sklearn.model_selection import train_test_split\n",
    "from sklearn.preprocessing import StandardScaler\n",
    "import tensorflow as tf \n",
    "import numpy as np\n",
    "from tensorflow import keras\n",
    "\n",
    "tf.random.set_seed(3)\n",
    "\n",
    "# Split the dataset\n",
    "X_train, X_test, Y_train, Y_test = train_test_split(X, Y, test_size=0.25)\n",
    "print(X.shape, X_train.shape, X_test.shape, Y_train.shape)\n",
    "\n",
    "# Standardize the features\n",
    "scaler = StandardScaler()\n",
    "X_train_std = scaler.fit_transform(X_train)\n",
    "X_test_std = scaler.transform(X_test)\n",
    "\n",
    "# Reshape to fit input_shape=(102,1)\n",
    "X_train_std = X_train_std.reshape(-1, 102, 1).astype('float32')\n",
    "X_test_std = X_test_std.reshape(-1, 102, 1).astype('float32')\n",
    "\n",
    "# Ensure labels are NumPy arrays (but do NOT apply to_categorical again)\n",
    "Y_train = np.array(Y_train)\n",
    "Y_test = np.array(Y_test)\n",
    "\n",
    "# If labels are integers (0/1), convert to one-hot only once\n",
    "if len(Y_train.shape) == 1:\n",
    "    from tensorflow.keras.utils import to_categorical\n",
    "    Y_train = to_categorical(Y_train, num_classes=2)\n",
    "    Y_test = to_categorical(Y_test, num_classes=2)\n",
    "\n",
    "# Define the model\n",
    "model = keras.Sequential([\n",
    "    keras.layers.Flatten(input_shape=(102, 1)),\n",
    "    keras.layers.Dense(20, activation='relu'),\n",
    "    keras.layers.Dense(2, activation='softmax')  # Use softmax for categorical classification\n",
    "])\n",
    "\n",
    "# Compile the model\n",
    "model.compile(optimizer='adam',\n",
    "              loss='categorical_crossentropy',\n",
    "              metrics=['accuracy'])\n",
    "\n",
    "# Train the model\n",
    "history = model.fit(X_train_std, Y_train, \n",
    "                    epochs=20, \n",
    "                    batch_size=10, \n",
    "                    validation_data=(X_test_std, Y_test))"
   ]
  },
  {
   "cell_type": "code",
   "execution_count": 38,
   "id": "b9e13b35",
   "metadata": {
    "execution": {
     "iopub.execute_input": "2024-09-09T08:59:33.021200Z",
     "iopub.status.busy": "2024-09-09T08:59:33.020722Z",
     "iopub.status.idle": "2024-09-09T08:59:33.531483Z",
     "shell.execute_reply": "2024-09-09T08:59:33.530157Z"
    },
    "papermill": {
     "duration": 0.555288,
     "end_time": "2024-09-09T08:59:33.534452",
     "exception": false,
     "start_time": "2024-09-09T08:59:32.979164",
     "status": "completed"
    },
    "tags": []
   },
   "outputs": [
    {
     "data": {
      "text/plain": [
       "<matplotlib.legend.Legend at 0x3171c5590>"
      ]
     },
     "execution_count": 38,
     "metadata": {},
     "output_type": "execute_result"
    },
    {
     "data": {
      "image/png": "[encoded data removed]",
      "text/plain": [
       "<Figure size 640x480 with 1 Axes>"
      ]
     },
     "metadata": {},
     "output_type": "display_data"
    }
   ],
   "source": [
    "plt.plot(history.history['accuracy'])\n",
    "plt.plot(history.history['val_accuracy'])\n",
    "\n",
    "plt.title('model accuracy')\n",
    "plt.ylabel('accuracy')\n",
    "plt.xlabel('epoch')\n",
    "\n",
    "plt.legend(['training data', 'validation data'], loc = 'lower right')"
   ]
  },
  {
   "cell_type": "code",
   "execution_count": 39,
   "id": "cb21dc5d",
   "metadata": {
    "execution": {
     "iopub.execute_input": "2024-09-09T08:59:33.612508Z",
     "iopub.status.busy": "2024-09-09T08:59:33.612067Z",
     "iopub.status.idle": "2024-09-09T08:59:34.174332Z",
     "shell.execute_reply": "2024-09-09T08:59:34.172626Z"
    },
    "papermill": {
     "duration": 0.605412,
     "end_time": "2024-09-09T08:59:34.177619",
     "exception": false,
     "start_time": "2024-09-09T08:59:33.572207",
     "status": "completed"
    },
    "tags": []
   },
   "outputs": [
    {
     "data": {
      "text/plain": [
       "<matplotlib.legend.Legend at 0x3188fc150>"
      ]
     },
     "execution_count": 39,
     "metadata": {},
     "output_type": "execute_result"
    },
    {
     "data": {
      "image/png": "[encoded data removed]",
      "text/plain": [
       "<Figure size 640x480 with 1 Axes>"
      ]
     },
     "metadata": {},
     "output_type": "display_data"
    }
   ],
   "source": [
    "plt.plot(history.history['loss'])\n",
    "plt.plot(history.history['val_loss'])\n",
    "\n",
    "plt.title('model loss')\n",
    "plt.ylabel('loss')\n",
    "plt.xlabel('epoch')\n",
    "\n",
    "plt.legend(['training data', 'validation data'], loc = 'upper right')"
   ]
  },
  {
   "cell_type": "markdown",
   "id": "d3a327fe",
   "metadata": {
    "papermill": {
     "duration": 0.039267,
     "end_time": "2024-09-09T08:59:34.256813",
     "exception": false,
     "start_time": "2024-09-09T08:59:34.217546",
     "status": "completed"
    },
    "tags": []
   },
   "source": [
    "###  Model Evaluation"
   ]
  },
  {
   "cell_type": "code",
   "execution_count": 41,
   "id": "186ff355",
   "metadata": {
    "execution": {
     "iopub.execute_input": "2024-09-09T08:59:34.336963Z",
     "iopub.status.busy": "2024-09-09T08:59:34.336202Z",
     "iopub.status.idle": "2024-09-09T08:59:34.451243Z",
     "shell.execute_reply": "2024-09-09T08:59:34.449594Z"
    },
    "papermill": {
     "duration": 0.159196,
     "end_time": "2024-09-09T08:59:34.454167",
     "exception": false,
     "start_time": "2024-09-09T08:59:34.294971",
     "status": "completed"
    },
    "tags": []
   },
   "outputs": [
    {
     "name": "stdout",
     "output_type": "stream",
     "text": [
      "6/6 [==============================] - 0s 899us/step - loss: 0.0821 - accuracy: 0.9659\n",
      "0.9659090638160706\n"
     ]
    }
   ],
   "source": [
    "loss, accuracy = model.evaluate(X_test_std, Y_test)\n",
    "print(accuracy)"
   ]
  },
  {
   "cell_type": "markdown",
   "id": "7c8925e5",
   "metadata": {
    "papermill": {
     "duration": 0.039554,
     "end_time": "2024-09-09T08:59:34.531816",
     "exception": false,
     "start_time": "2024-09-09T08:59:34.492262",
     "status": "completed"
    },
    "tags": []
   },
   "source": [
    "### Classification Report"
   ]
  },
  {
   "cell_type": "code",
   "execution_count": 45,
   "id": "2359846d",
   "metadata": {
    "execution": {
     "iopub.execute_input": "2024-09-09T08:59:34.612055Z",
     "iopub.status.busy": "2024-09-09T08:59:34.611556Z",
     "iopub.status.idle": "2024-09-09T08:59:34.802523Z",
     "shell.execute_reply": "2024-09-09T08:59:34.800950Z"
    },
    "papermill": {
     "duration": 0.235662,
     "end_time": "2024-09-09T08:59:34.805695",
     "exception": false,
     "start_time": "2024-09-09T08:59:34.570033",
     "status": "completed"
    },
    "tags": []
   },
   "outputs": [
    {
     "name": "stdout",
     "output_type": "stream",
     "text": [
      "0.9659090909090909\n",
      "              precision    recall  f1-score   support\n",
      "\n",
      "           0       0.98      0.97      0.98       129\n",
      "           1       0.92      0.96      0.94        47\n",
      "\n",
      "    accuracy                           0.97       176\n",
      "   macro avg       0.95      0.96      0.96       176\n",
      "weighted avg       0.97      0.97      0.97       176\n",
      "\n"
     ]
    }
   ],
   "source": [
    "from sklearn.metrics import accuracy_score, classification_report\n",
    "\n",
    "# Convert one-hot labels back to integers\n",
    "true_labels = np.argmax(Y_test, axis=1)\n",
    "\n",
    "# Evaluate predictions\n",
    "print(accuracy_score(true_labels, prediction))\n",
    "print(classification_report(true_labels, prediction))"
   ]
  },
  {
   "cell_type": "code",
   "execution_count": 48,
   "id": "d9d9cef5",
   "metadata": {},
   "outputs": [
    {
     "name": "stderr",
     "output_type": "stream",
     "text": [
      "/opt/homebrew/lib/python3.11/site-packages/keras/src/engine/training.py:3103: UserWarning:\n",
      "\n",
      "You are saving your model as an HDF5 file via `model.save()`. This file format is considered legacy. We recommend using instead the native Keras format, e.g. `model.save('my_model.keras')`.\n",
      "\n"
     ]
    }
   ],
   "source": [
    "model.save(\"autism_prediction_model.h5\")"
   ]
  },
  {
   "cell_type": "code",
   "execution_count": 49,
   "id": "6319cbe1",
   "metadata": {},
   "outputs": [
    {
     "data": {
      "text/plain": [
       "['rf_model.pkl']"
      ]
     },
     "execution_count": 49,
     "metadata": {},
     "output_type": "execute_result"
    }
   ],
   "source": [
    "import joblib\n",
    "joblib.dump(rf, \"rf_model.pkl\")"
   ]
  },
  {
   "cell_type": "code",
   "execution_count": null,
   "id": "a5750ab1",
   "metadata": {},
   "outputs": [],
   "source": []
  }
 ],
 "metadata": {
  "kaggle": {
   "accelerator": "none",
   "dataSources": [
    {
     "datasetId": 834656,
     "sourceId": 1425455,
     "sourceType": "datasetVersion"
    }
   ],
   "dockerImageVersionId": 30746,
   "isGpuEnabled": false,
   "isInternetEnabled": true,
   "language": "python",
   "sourceType": "notebook"
  },
  "kernelspec": {
   "display_name": "Python 3",
   "language": "python",
   "name": "python3"
  },
  "language_info": {
   "codemirror_mode": {
    "name": "ipython",
    "version": 3
   },
   "file_extension": ".py",
   "mimetype": "text/x-python",
   "name": "python",
   "nbconvert_exporter": "python",
   "pygments_lexer": "ipython3",
   "version": "3.11.8"
  },
  "papermill": {
   "default_parameters": {},
   "duration": 47.294096,
   "end_time": "2024-09-09T08:59:37.799274",
   "environment_variables": {},
   "exception": null,
   "input_path": "__notebook__.ipynb",
   "output_path": "__notebook__.ipynb",
   "parameters": {},
   "start_time": "2024-09-09T08:58:50.505178",
   "version": "2.5.0"
  }
 },
 "nbformat": 4,
 "nbformat_minor": 5
}
